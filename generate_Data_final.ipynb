{
 "cells": [
  {
   "cell_type": "code",
   "execution_count": null,
   "metadata": {},
   "outputs": [],
   "source": [
    "import pandas as pd\n",
    "import random\n",
    "from datetime import datetime, timedelta\n",
    "\n",
    "# Define room names in Portuguese\n",
    "rooms = [\"apartamento\", \"casa\", \"cômodo\", \"cozinha\", \"banheiro\", \"quarto\", \"sala\"]\n",
    "\n",
    "# Define lamp status\n",
    "lamp_status = [0, 1]  # 0 for off, 1 for on\n",
    "\n",
    "# Define time bias for when the lamp is mostly on (night time) and off (day time)\n",
    "day_start = 7  # 7 AM\n",
    "day_end = 19  # 7 PM\n",
    "\n",
    "# Initialize list to store data\n",
    "data = []\n",
    "\n",
    "# Ensure logical sequence of lamp status for each room\n",
    "last_status = {room: 0 for room in rooms}\n",
    "\n",
    "# Track the last time a lamp changed status in each room\n",
    "last_change_time = {room: None for room in rooms}\n",
    "\n",
    "# Generate data for one week\n",
    "start_date = datetime.now()\n",
    "for _ in range(150*24*60):  # 150 days * 24 hours * 60 minutes\n",
    "    # Choose a random room\n",
    "    room = random.choice(rooms)\n",
    "    \n",
    "    # Determine the current hour\n",
    "    current_hour = (start_date + timedelta(minutes=_)).hour\n",
    "    \n",
    "    # Bias towards lamp being on during night time and off during day time\n",
    "    if day_start <= current_hour < day_end:\n",
    "        status = 0\n",
    "    else:\n",
    "        status = 1\n",
    "    \n",
    "    # Ensure the lamp status is not the same as the last one and that it has been at least an hour since the last change\n",
    "    if status == last_status[room] or (last_change_time[room] is not None and start_date + timedelta(minutes=_) - last_change_time[room] < timedelta(hours=1)):\n",
    "        continue\n",
    "\n",
    "    # Store data\n",
    "    data.append([room, status, start_date + timedelta(minutes=_)])\n",
    "\n",
    "    # Update last status and last change time\n",
    "    last_status[room] = status\n",
    "    last_change_time[room] = start_date + timedelta(minutes=_)\n",
    "    \n",
    "# Create DataFrame and save as CSV  \n",
    "df = pd.DataFrame(data, columns=[\"room\", \"lamp_status\", \"time\"])\n",
    "df.to_csv(\"lamp_status_data.csv\", index=False)\n"
   ]
  }
 ],
 "metadata": {
  "kernelspec": {
   "display_name": "EnviromentToPython",
   "language": "python",
   "name": "python3"
  },
  "language_info": {
   "codemirror_mode": {
    "name": "ipython",
    "version": 3
   },
   "file_extension": ".py",
   "mimetype": "text/x-python",
   "name": "python",
   "nbconvert_exporter": "python",
   "pygments_lexer": "ipython3",
   "version": "3.10.11"
  },
  "orig_nbformat": 4
 },
 "nbformat": 4,
 "nbformat_minor": 2
}
