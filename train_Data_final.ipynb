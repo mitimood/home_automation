{
 "cells": [
  {
   "cell_type": "code",
   "execution_count": 3,
   "metadata": {},
   "outputs": [
    {
     "name": "stdout",
     "output_type": "stream",
     "text": [
      "[[ 4 19]\n",
      " [ 3 19]\n",
      " [ 1 19]\n",
      " ...\n",
      " [ 2  7]\n",
      " [ 3  7]\n",
      " [ 0  7]]\n"
     ]
    }
   ],
   "source": [
    "import pandas as pd\n",
    "import random\n",
    "import numpy as np\n",
    "from datetime import datetime, timedelta\n",
    "from sklearn.model_selection import train_test_split\n",
    "from sklearn.preprocessing import LabelEncoder\n",
    "from tensorflow.keras.models import Sequential\n",
    "from tensorflow.keras.layers import LSTM, Dense\n",
    "from tensorflow.keras.utils import to_categorical\n",
    "\n",
    "\n",
    "# Load the data\n",
    "df = pd.read_csv(\"lamp_status_data.csv\")\n",
    "\n",
    "# Process the data\n",
    "df['time'] = pd.to_datetime(df['time']).dt.hour\n",
    "# df['time'] = df['time'].apply(lambda x: x.hour*60 + x.minute)\n",
    "\n",
    "le = LabelEncoder()\n",
    "df['room'] = le.fit_transform(df['room'])\n",
    "\n",
    "# Prepare data for LSTM\n",
    "X = df[['room', 'time']].values\n",
    "y = df['lamp_status'].values\n",
    "\n",
    "# Normalize X\n",
    "X = X / np.max(X, axis=0)\n",
    "\n",
    "# Reshape X to be 3D [samples, timesteps, features] for LSTM\n",
    "X = X.reshape((X.shape[0], 1, X.shape[1]))\n",
    "\n",
    "# Convert y to one-hot encoding\n",
    "y = to_categorical(y)\n",
    "\n",
    "# Split data into training and test sets\n",
    "X_train, X_test, y_train, y_test = train_test_split(X, y, test_size=0.2, random_state=42)\n",
    "\n",
    "# Define LSTM model\n",
    "model = Sequential()\n",
    "model.add(LSTM(50, input_shape=(X_train.shape[1], X_train.shape[2])))\n",
    "model.add(Dense(2, activation='softmax'))\n",
    "\n",
    "\n",
    "model.compile(loss='categorical_crossentropy', optimizer='adam', metrics=['accuracy'])\n"
   ]
  },
  {
   "cell_type": "code",
   "execution_count": null,
   "metadata": {},
   "outputs": [],
   "source": [
    "history = model.fit(X_train, y_train, epochs=50, batch_size=4096, validation_data=(X_test, y_test), shuffle=False)\n"
   ]
  },
  {
   "cell_type": "code",
   "execution_count": null,
   "metadata": {},
   "outputs": [],
   "source": [
    "import joblib \n",
    "model.save('lamp_status_model.h5')\n",
    "joblib.dump(le, 'label_encoder.pkl')\n"
   ]
  }
 ],
 "metadata": {
  "kernelspec": {
   "display_name": "EnviromentToPython",
   "language": "python",
   "name": "python3"
  },
  "language_info": {
   "codemirror_mode": {
    "name": "ipython",
    "version": 3
   },
   "file_extension": ".py",
   "mimetype": "text/x-python",
   "name": "python",
   "nbconvert_exporter": "python",
   "pygments_lexer": "ipython3",
   "version": "3.7.16"
  },
  "orig_nbformat": 4
 },
 "nbformat": 4,
 "nbformat_minor": 2
}
